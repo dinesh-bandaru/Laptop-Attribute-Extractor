{
  "nbformat": 4,
  "nbformat_minor": 0,
  "metadata": {
    "colab": {
      "name": "DELL_FINAL.ipynb",
      "provenance": []
    },
    "kernelspec": {
      "name": "python3",
      "display_name": "Python 3"
    }
  },
  "cells": [
    {
      "cell_type": "code",
      "metadata": {
        "id": "XKyjD7YpbjAX"
      },
      "source": [
        "import pandas as pd\n",
        "import re\n",
        "import numpy as np"
      ],
      "execution_count": 1,
      "outputs": []
    },
    {
      "cell_type": "code",
      "metadata": {
        "id": "Abt0ydUVe1rQ",
        "outputId": "3ca64e5f-00c6-4ad6-aaed-443a322589c8",
        "colab": {
          "base_uri": "https://localhost:8080/",
          "height": 136
        }
      },
      "source": [
        "excel_workbook = '/content/test.xlsx'\n",
        "sheet1 = pd.read_excel(excel_workbook, sheet_name='Sheet1')\n",
        "print(sheet1.head(4))"
      ],
      "execution_count": 2,
      "outputs": [
        {
          "output_type": "stream",
          "text": [
            "        Size  ...     Resolution\n",
            "0  17,3 Zoll  ...  1.920 x 1.080\n",
            "1  15,6 Zoll  ...  1.920 x 1.080\n",
            "2  15,6 Zoll  ...  1.920 x 1.080\n",
            "3  12,3 Zoll  ...  2.736 x 1.824\n",
            "\n",
            "[4 rows x 7 columns]\n"
          ],
          "name": "stdout"
        }
      ]
    },
    {
      "cell_type": "code",
      "metadata": {
        "id": "KuIVXq0bfjNd"
      },
      "source": [
        "excel_num = sheet1['Size']"
      ],
      "execution_count": 3,
      "outputs": []
    },
    {
      "cell_type": "code",
      "metadata": {
        "id": "BhfL331KewuA"
      },
      "source": [
        "g = 0\n",
        "size_new = []\n",
        "for siz in excel_num:\n",
        "  if(type(siz) == float):\n",
        "    size_new.append('null')\n",
        "  else:\n",
        "   if (',' in siz):\n",
        "     r1, r2 = siz.split(',',1)\n",
        "     siz = r1 + '.' + r2\n",
        "   if (',' in siz):\n",
        "     r1, r2 = siz.split(',',1)\n",
        "     siz = r1 + '.' + r2\n",
        "   result = re.findall(r\"[-+]?\\d*\\.\\d+|\\d+\",siz)\n",
        "   for i in result:\n",
        "    if (9<= float(i) <=20):\n",
        "      val=i;\n",
        "   size_new.append(val+'\"')\n",
        "   val = 'null'\n",
        "   g = g + 1\n",
        "\n",
        "#print(excel_num_fr)\n",
        "#print(size_fr)\n",
        "#print(len(size_fr))\n",
        "#print(g)"
      ],
      "execution_count": 4,
      "outputs": []
    },
    {
      "cell_type": "code",
      "metadata": {
        "id": "i7ZrMyA4gSVo"
      },
      "source": [
        "excel_mem = sheet1['Memory']"
      ],
      "execution_count": 5,
      "outputs": []
    },
    {
      "cell_type": "code",
      "metadata": {
        "id": "6sTDlxqRgd4b"
      },
      "source": [
        "mem_new = []\n",
        "for ram in excel_mem:\n",
        "  if (type(ram) == float):\n",
        "    mem_new.append('null')\n",
        "  else:\n",
        "    if ('max' in ram):\n",
        "      r1, r2 = ram.split('max',1)\n",
        "    else:\n",
        "      r1 = ram\n",
        "    res = re.findall(r\"[-+]?\\d*\\.\\d+|\\d+\",r1)\n",
        "    for i in range(0, len(res)):\n",
        "      res[i] = float(res[i])\n",
        "    l = [0]\n",
        "    for j in res:\n",
        "      if (float(j) <= 100):\n",
        "        l.append(j)\n",
        "    l = (str(int(max(l)))+'GB')\n",
        "    mem_new.append(l)\n",
        "#print(excel_mem_FR)\n",
        "#print(unit_FR)\n",
        "#print(len(unit_FR))"
      ],
      "execution_count": 6,
      "outputs": []
    },
    {
      "cell_type": "code",
      "metadata": {
        "id": "80OeiwnLgz_d"
      },
      "source": [
        "excel_pro = sheet1['Processor']"
      ],
      "execution_count": 7,
      "outputs": []
    },
    {
      "cell_type": "code",
      "metadata": {
        "id": "aYNS8ui3hxyF"
      },
      "source": [
        "processor_list = []\n",
        "for test_string in excel_pro:\n",
        "  l = 0\n",
        "  pro = []\n",
        "  sess = []\n",
        "  gen = []\n",
        "  k = 0\n",
        "  if (type(test_string) == float):\n",
        "    processor_list.append('null')\n",
        "  else:\n",
        "    test_string = test_string.replace('I','i')\n",
        "    if (',' in test_string):\n",
        "      r1, r2 = test_string.split(',',1)\n",
        "      test_string = r1 + '.' + r2\n",
        "    if (',' in test_string):\n",
        "      r1, r2 = test_string.split(',',1)\n",
        "      test_string = r1 + '.' + r2\n",
        "    if (('Med' or 'med') in test_string):\n",
        "      sess = re.findall(r\"\\w\\w\\d\\w+\", test_string)\n",
        "      if (len(sess) != 0):\n",
        "        sess[0] = 'Mediatek' + ' ' + sess[0]\n",
        "        #print(sess[0])\n",
        "        processor_list.append(sess[0])\n",
        "        l = 1\n",
        "    if (('Cel' or 'cel') in test_string):\n",
        "      sess = re.findall(r\"\\w\\d\\w+\", test_string)\n",
        "      if (len(sess) != 0):\n",
        "        sess[0] = 'Cel' + ' ' + sess[0]\n",
        "        #print(sess[0])\n",
        "        processor_list.append(sess[0])\n",
        "        l = 1\n",
        "    if (('Ath' or 'ath') in test_string):\n",
        "      sess = re.findall(r\"\\w\\d\\w+\", test_string)\n",
        "      if (len(sess) != 0):\n",
        "        sess[0] = 'Athlon' + ' ' + sess[0]\n",
        "        #print(sess[0])\n",
        "        processor_list.append(sess[0])\n",
        "        l = 1\n",
        "    if (('Pen' or 'pen') in test_string):\n",
        "      sess = re.findall(r\"\\w\\d\\w+\", test_string)\n",
        "      if (len(sess) != 0):\n",
        "        sess[0] = 'Pen' + ' ' + sess[0]\n",
        "        #print(sess[0])\n",
        "        processor_list.append(sess[0])\n",
        "        l = 1\n",
        "    if ('yzen' in test_string):\n",
        "      k = 0\n",
        "      pro = re.findall(r\"\\s[3579]\", test_string)\n",
        "      sess = re.findall(r\"\\d\\d\\w+\", test_string)\n",
        "      if ((len(sess) != 0) and (len(pro) !=0)):\n",
        "        pro[0] = 'Ryzen' + pro[0] + ' ' + sess[0]\n",
        "        #print(pro[0])\n",
        "        k = 1\n",
        "        processor_list.append(pro[0])\n",
        "        l = 1\n",
        "    if ((' R' or ' r') in test_string):\n",
        "      if (k != 1):\n",
        "        if ('intel' not in test_string):\n",
        "          pro = re.findall(r\"[3579]\", test_string)\n",
        "          if (len(pro) !=0): \n",
        "            pro[0] = 'Ryzen-' + pro[0]\n",
        "            #print(pro[0])\n",
        "            processor_list.append(pro[0])\n",
        "            l = 1\n",
        "    if (('A' or 'a') in test_string):\n",
        "      pro = re.findall(r\"A\\d\", test_string)\n",
        "      sess = re.findall(r\"\\d\\d\\w+\", test_string)\n",
        "      if ((len(sess) != 0) and (len(pro) !=0)): \n",
        "        pro[0] = pro[0] + '-' + sess[0]\n",
        "        #print(pro[0])\n",
        "        processor_list.append(pro[0])\n",
        "        l = 1\n",
        "    if ('i' in test_string):\n",
        "      pro = re.findall(r\"[i]\\d\", test_string)\n",
        "      #test_string = test_string.replace(pro[0], '')\n",
        "      sess = re.findall(r\"\\d+\\w+\\w\", test_string)\n",
        "      #print(sess)\n",
        "      if ((len(sess) != 0) and (len(pro) !=0)): \n",
        "        pro[0] = pro[0] + '-' + sess[0]\n",
        "        #print(pro[0])\n",
        "        processor_list.append(pro[0])\n",
        "        l = 1\n",
        "      if (len(sess) == 0):\n",
        "        if (('Gen' or 'gen') in test_string):\n",
        "          gen = re.findall(r\"\\s[7891].\", test_string)\n",
        "          if (len(gen) != 0):\n",
        "            pro[0] = pro[0] + gen[0] + 'th Gen'\n",
        "            #print(pro[0])\n",
        "            processor_list.append(pro[0])\n",
        "            l = 1\n",
        "        else:\n",
        "          if (len(pro) != 0):\n",
        "            pro[0] = 'Core-' + pro[0]\n",
        "            #print(pro[0])\n",
        "            processor_list.append(pro[0])\n",
        "            l = 1\n",
        "    if (l == 0):\n",
        "      processor_list.append('not-found')\n",
        "#print(processor_list)"
      ],
      "execution_count": 8,
      "outputs": []
    },
    {
      "cell_type": "code",
      "metadata": {
        "id": "QzkfQ9nGixBa"
      },
      "source": [
        "excel_HDD = sheet1['Hard Drive']"
      ],
      "execution_count": 9,
      "outputs": []
    },
    {
      "cell_type": "code",
      "metadata": {
        "id": "juU1ISQpixMT",
        "outputId": "bef3a8aa-6f2c-43b4-edef-9cd9c2f8a0d5",
        "colab": {
          "base_uri": "https://localhost:8080/",
          "height": 71
        }
      },
      "source": [
        "HDD_list = []\n",
        "for t_s in excel_HDD:\n",
        "  d= []\n",
        "  t = ''\n",
        "  if (type(t_s) == float):\n",
        "      HDD_list.append('null')\n",
        "      #print('null')\n",
        "  else:\n",
        "    if ('Gbps' in t_s):\n",
        "      t_s = t_s.replace('Gbps', '')\n",
        "    if (' 4 GB' in t_s):\n",
        "      t_s = t_s.replace('4 GB', '')\n",
        "    if (' 8 GB' in t_s):\n",
        "      t_s = t_s.replace('8 GB', '')\n",
        "    \n",
        "    h = re.findall(r\"(?i)hybrid\", t_s)\n",
        "    #print(len(h))\n",
        "    if (len(h) > 0):\n",
        "      d = re.findall(r\"[-+]?\\d*\\.\\d+ [GT]B|\\d+ [GT]B|SSD|(?i)emmc|[-+]?\\d*\\.\\d+[GT]B|\\d+[GT]B|\\d\\d+ SSD|\\d\\d+ (?i)Emmc\", t_s)\n",
        "      #print(type(d[1]))\n",
        "      z = len(d) \n",
        "      for i in range(1, z):\n",
        "        #print(i)\n",
        "        #print(d[i])\n",
        "        if (d[i] == 'SSD' and d[i-1] == 'SSD'):\n",
        "          del d[i]\n",
        "          break\n",
        "      if (len(d) > 2):\n",
        "        for i in range(1, len(d)):\n",
        "          if (d[i] == 'SSD' or 'MMC' in d[i]):\n",
        "                d[0] = d[0] + ' ' + d[i]\n",
        "          else:\n",
        "            d[0] = d[0] + ' + '\n",
        "            d[0] = d[0] + d[i] \n",
        "        t = d[0]\n",
        "      else:\n",
        "        for i in d:\n",
        "          t = t + i\n",
        "    a = re.findall(r\"2x \\d+ [GT]B|2x\\d+ [GT]B|2x \\d+[GT]B|2x\\d+[GT]B\", t_s)\n",
        "    if (len(a) > 0):\n",
        "      r1, r2 = t_s.split('2x', 1)\n",
        "      if ('SSD' in r2):\n",
        "        t = a[0] + ' SSD'\n",
        "      else:\n",
        "        t = a[0]\n",
        "    if (t == ''):\n",
        "      d = re.findall(r\"[-+]?\\d*\\.\\d+ [GT]B|\\d+ [GT]B|SSD|(?i)emmc|(?i)cloud|[-+]?\\d*\\.\\d+[GT]B|\\d+[GT]B|\\d\\d+ SSD|\\d+ (?i)Emmc\", t_s)\n",
        "      z = len(d) \n",
        "      for i in range(1, z):\n",
        "        #print(i)\n",
        "        #print(d[i])\n",
        "        if (d[i] == 'SSD' and d[i-1] == 'SSD'):\n",
        "          del d[i]\n",
        "          break\n",
        "      if (len(d) > 0):\n",
        "        if (d[0] == 'SSD' or 'MMC' in d[0]):\n",
        "          for i in range(0, len(d)):\n",
        "            t = t + ' ' + d[len(d)-1-i]\n",
        "        else:\n",
        "          for i in range(1, len(d)):\n",
        "            if (d[i] == 'SSD' or 'MMC' in d[i] or 'loud' in d[i]):\n",
        "                  d[0] = d[0] + ' ' + d[i]\n",
        "            else:\n",
        "              d[0] = d[0] + ' + '\n",
        "              d[0] = d[0] + d[i] \n",
        "          t = d[0]\n",
        "\n",
        "    #print(d)\n",
        "    #print(t)\n",
        "    if (' GB' in t):\n",
        "      t = t.replace(' GB','GB')\n",
        "    if (' TB' in t):\n",
        "      t = t.replace(' TB','TB')\n",
        "    if ('1.512GB SSD + ' in t):\n",
        "      t = t.replace('1.512GB SSD + ', '')\n",
        "    if ('.' in t):\n",
        "      t = t.replace('.', '')\n",
        "    if ('1512GB + ' in t):\n",
        "      t = t.replace('1512GB + ', '')\n",
        "    if ('1256GB + ' in t):\n",
        "      t = t.replace('1256GB + ', '')\n",
        "    if ('1128GB + ' in t):\n",
        "      t = t.replace('1128GB + ', '')\n",
        "    if ('2512GB + ' in t):\n",
        "      t = t.replace('2512GB + ', '')\n",
        "    if ('3TB + ' in t):\n",
        "      t = t.replace('3TB + ', '')\n",
        "    if (len(t) > 13):\n",
        "      if (t[:5] == '2TB +'):\n",
        "        t = t.replace('2TB + ', '')\n",
        "    if ('.' in t):\n",
        "      t = t.replace('.', '')\n",
        "    if ('1000GB' in t):\n",
        "      t = t.replace('1000GB', '1TB')\n",
        "    if (t == ''):\n",
        "      HDD_list.append('NOT FOUND')\n",
        "    else:\n",
        "      #print(t)\n",
        "      HDD_list.append(t)"
      ],
      "execution_count": 10,
      "outputs": [
        {
          "output_type": "stream",
          "text": [
            "/usr/local/lib/python3.6/dist-packages/ipykernel_launcher.py:19: DeprecationWarning: Flags not at the start of the expression '[-+]?\\\\d*\\\\.\\\\d+ [GT]B|' (truncated)\n",
            "/usr/local/lib/python3.6/dist-packages/ipykernel_launcher.py:47: DeprecationWarning: Flags not at the start of the expression '[-+]?\\\\d*\\\\.\\\\d+ [GT]B|' (truncated)\n"
          ],
          "name": "stderr"
        }
      ]
    },
    {
      "cell_type": "code",
      "metadata": {
        "id": "7brtWVCEabmr"
      },
      "source": [
        "excel_GRA = sheet1['Video Card']"
      ],
      "execution_count": 11,
      "outputs": []
    },
    {
      "cell_type": "code",
      "metadata": {
        "id": "-cS_kPafannR",
        "outputId": "f443199d-9602-48f4-f6f2-891792dec8d4",
        "colab": {
          "base_uri": "https://localhost:8080/",
          "height": 207
        }
      },
      "source": [
        "gra_list = []\n",
        "p = 0\n",
        "for t_s in excel_GRA:\n",
        "  if (type(t_s) == float):\n",
        "    gra_list.append('null')\n",
        "    #print('null')\n",
        "  else:\n",
        "    t_s = t_s.replace('™','')\n",
        "    t_s = t_s.replace('®','')\n",
        "    t_s = t_s.replace('  ', ' ')\n",
        "    x = ''\n",
        "    d = re.findall(r\"9\\d+(?i)mx|9\\d+(?i)m\", t_s)\n",
        "    if (len(d) != 0):\n",
        "      x = d[0]\n",
        "    if (x == ''):\n",
        "      d = re.findall(r\"(?i)amd| [RMW]\\w |(?i)pro|(?i)vega\\d|(?i)vega|\\d\\w+|M GL\", t_s)\n",
        "      if (len(d) > 1):\n",
        "        for y in d:\n",
        "          x = x + ' ' + y\n",
        "        x = x.upper()\n",
        "        if 'VEGA' in x:\n",
        "          n = re.findall(r\" \\d\", t_s)\n",
        "          for y in n:\n",
        "            x = x + y\n",
        "        #goto end\n",
        "      d = re.findall(r\"(?i)intel (?i)hd|(?i)intel (?i)uhd|(?i)intel (?i)iris (?i)plus|(?i)intel (?i)iris\", t_s)\n",
        "      if (len(d) != 0):\n",
        "        x = d[0] + ' graphics'\n",
        "        x = x.upper()\n",
        "        #goto end\n",
        "      d = re.findall(r\"(?i)MX\\w+|(?i)MX \\w+\", t_s)\n",
        "      if (len(d) != 0):\n",
        "        x = d[0]\n",
        "        x = x.upper()\n",
        "        #goto end\n",
        "      d = re.findall(r\"[GR]TX \\w+ (?i)Ti|[GR]TX\\w+Ti|[GR]TX\\w+ (?i)Ti|[GR]TX \\w+(?i)Ti|[GR]TX \\w+ (?i)SUPER|[GR]TX\\w+(?i)SUPER|[GR]TX\\w+ (?i)SUPER|[GR]TX \\w+(?i)SUPER|[GR]TX \\w+|[GR]TX\\w+\", t_s)\n",
        "      if (len(d) != 0):\n",
        "        x = d[0]\n",
        "        m = re.findall(r\"(?i)MAX\", t_s)\n",
        "        if (len(m) != 0):\n",
        "          x = x + ' MAX Q'\n",
        "        x = x.upper()\n",
        "        #goto end\n",
        "      d = re.findall(r\"(?i)quadro (?i)t\\w+|(?i)quadro [RG]TX (?i)t\\w+\", t_s)\n",
        "      if (len(d) != 0):\n",
        "        x = d[0]\n",
        "      if (x == ''):\n",
        "        d = re.findall(r\"(?i)nvidia|(?i)geforce\", t_s)\n",
        "        for y in d:\n",
        "          x = x + ' ' + y\n",
        "        d = re.findall(r\"(?i)amd|(?i)radeon\", t_s)\n",
        "        for y in d:\n",
        "          x = x + ' ' + y\n",
        "        if (x == ''):\n",
        "          x = 'NOT FOUND'\n",
        "    #label: end\n",
        "    x = x.upper()\n",
        "    x = x.replace('  ', ' ')\n",
        "    f = re.findall(r\"\\d\\d+ [MG]B\", x)\n",
        "    if (len(f) > 0):\n",
        "      x = x.replace(f[0], '')\n",
        "    f = re.findall(r\"\\d\\d+ [MG]B|\\d [MG]B\", t_s)\n",
        "    if (len(f) > 0):\n",
        "      x = x + ' ' + f [0]\n",
        "    f = re.findall(r\"4K \\d+\", x)\n",
        "    if (len(f) > 0):\n",
        "      x = x.replace(f[0], '')\n",
        "    x = x.replace('  ', ' ')\n",
        "    gra_list.append(x)"
      ],
      "execution_count": 12,
      "outputs": [
        {
          "output_type": "stream",
          "text": [
            "/usr/local/lib/python3.6/dist-packages/ipykernel_launcher.py:12: DeprecationWarning: Flags not at the start of the expression '9\\\\d+(?i)mx|9\\\\d+(?i)m'\n",
            "  if sys.path[0] == '':\n",
            "/usr/local/lib/python3.6/dist-packages/ipykernel_launcher.py:16: DeprecationWarning: Flags not at the start of the expression '(?i)amd| [RMW]\\\\w |(?' (truncated)\n",
            "  app.launch_new_instance()\n",
            "/usr/local/lib/python3.6/dist-packages/ipykernel_launcher.py:26: DeprecationWarning: Flags not at the start of the expression '(?i)intel (?i)hd|(?i' (truncated)\n",
            "/usr/local/lib/python3.6/dist-packages/ipykernel_launcher.py:31: DeprecationWarning: Flags not at the start of the expression '(?i)MX\\\\w+|(?i)MX \\\\w+'\n",
            "/usr/local/lib/python3.6/dist-packages/ipykernel_launcher.py:36: DeprecationWarning: Flags not at the start of the expression '[GR]TX \\\\w+ (?i)Ti|[G' (truncated)\n",
            "/usr/local/lib/python3.6/dist-packages/ipykernel_launcher.py:44: DeprecationWarning: Flags not at the start of the expression '(?i)quadro (?i)t\\\\w+|' (truncated)\n",
            "/usr/local/lib/python3.6/dist-packages/ipykernel_launcher.py:48: DeprecationWarning: Flags not at the start of the expression '(?i)nvidia|(?i)gefor' (truncated)\n",
            "/usr/local/lib/python3.6/dist-packages/ipykernel_launcher.py:51: DeprecationWarning: Flags not at the start of the expression '(?i)amd|(?i)radeon'\n"
          ],
          "name": "stderr"
        }
      ]
    },
    {
      "cell_type": "code",
      "metadata": {
        "id": "Xrn57TBDbRMv"
      },
      "source": [
        "excel_OS = sheet1['Operating System']"
      ],
      "execution_count": 13,
      "outputs": []
    },
    {
      "cell_type": "code",
      "metadata": {
        "id": "deJkzh3tbUAg",
        "outputId": "4dcce557-ae60-41bb-d086-ed7549fb0ea8",
        "colab": {
          "base_uri": "https://localhost:8080/",
          "height": 122
        }
      },
      "source": [
        "OS_list = []\n",
        "for t_s in excel_OS:\n",
        "  if (type(t_s) == float):\n",
        "    OS_list.append('null')\n",
        "    #print('null')\n",
        "  else:\n",
        "    t = ''\n",
        "    t_s = t_s.replace('™','')\n",
        "    t_s = t_s.replace('®','')\n",
        "    d = re.findall(r\"10 (?i)pro|10 (?i)home|10 (?i)s|8.1\", t_s)\n",
        "    if (len(d) > 0):\n",
        "      t = 'Win' + d[0]\n",
        "    d = re.findall(r\"(?i)chrome (?i)os|(?i)ubuntu|(?i)high (?i)sierra|(?i)mojave|(?i)yosemite|(?i)el (?i)capitan|(?i)catalina|(?i)dos\", t_s)\n",
        "    if (len(d) > 0):\n",
        "      t = d[0]\n",
        "    if (t == ''):\n",
        "      d = re.findall(r\"(?i)sierra|(?i)windows|(?i)macos|(?i)chrome\", t_s)\n",
        "      if (len(d) > 0):\n",
        "        t = d[0]\n",
        "      else:\n",
        "        d = re.findall(r\"Win10|Win\", t_s)\n",
        "        if (len(d) > 0):\n",
        "          t = d[0]\n",
        "        else:\n",
        "          t = 'NOT FOUND'\n",
        "    OS_list.append(t)"
      ],
      "execution_count": 14,
      "outputs": [
        {
          "output_type": "stream",
          "text": [
            "/usr/local/lib/python3.6/dist-packages/ipykernel_launcher.py:10: DeprecationWarning: Flags not at the start of the expression '10 (?i)pro|10 (?i)ho' (truncated)\n",
            "  # Remove the CWD from sys.path while we load stuff.\n",
            "/usr/local/lib/python3.6/dist-packages/ipykernel_launcher.py:13: DeprecationWarning: Flags not at the start of the expression '(?i)chrome (?i)os|(?' (truncated)\n",
            "  del sys.path[0]\n",
            "/usr/local/lib/python3.6/dist-packages/ipykernel_launcher.py:17: DeprecationWarning: Flags not at the start of the expression '(?i)sierra|(?i)windo' (truncated)\n"
          ],
          "name": "stderr"
        }
      ]
    },
    {
      "cell_type": "code",
      "metadata": {
        "id": "Rz4AIdyKNDfi"
      },
      "source": [
        "excel_RES = sheet1['Resolution']"
      ],
      "execution_count": 15,
      "outputs": []
    },
    {
      "cell_type": "code",
      "metadata": {
        "id": "tlyzTLfBM9hf"
      },
      "source": [
        "RES_list = []\n",
        "for t_s in excel_RES:\n",
        "  if (type(t_s) == float):\n",
        "    RES_list.append('null')\n",
        "  else:\n",
        "    t_s = t_s.replace('.','')\n",
        "    d = re.findall(r\"\\d+ x \\d+|\\d+x\\d+\", t_s)\n",
        "    if (len(d) == 0):\n",
        "      RES_list.append('NOT FOUND')\n",
        "    else:\n",
        "      RES_list.append(d[0])\n",
        "#print(RES_list)"
      ],
      "execution_count": 16,
      "outputs": []
    },
    {
      "cell_type": "code",
      "metadata": {
        "id": "XsbTyUkgnERT"
      },
      "source": [
        "df = pd.DataFrame({'SIZE_OLD': excel_num})\n",
        "df['SIZE_NEW'] = size_new\n",
        "df['MEMORY_OLD'] = excel_mem\n",
        "df['MEMORY_NEW'] = mem_new\n",
        "df['PROCESSOR_OLD'] = excel_pro\n",
        "#df['PROCESSOR_NEW'] = processor_list\n",
        "df['PROCESSOR_NEW'] = pd.Series(processor_list)\n",
        "df['HARD_DRIVE_OLD'] = excel_HDD\n",
        "df['HARD_DRIVE_NEW'] = HDD_list\n",
        "df['GRAPHICS_OLD'] = excel_GRA\n",
        "df['GRAPHICS_NEW'] = gra_list\n",
        "df['OS_OLD'] = excel_OS\n",
        "df['OS_NEW'] = OS_list\n",
        "df['RES_OLD'] = excel_RES\n",
        "df['RES_NEW'] = RES_list\n",
        "df.to_excel('/content/test.xlsx', index = False)"
      ],
      "execution_count": 17,
      "outputs": []
    }
  ]
}